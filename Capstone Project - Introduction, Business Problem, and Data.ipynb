{
 "cells": [
  {
   "cell_type": "markdown",
   "metadata": {},
   "source": [
    "# Exploring Chicago Community Areas to Identify Where to Open a Coffee Shop"
   ]
  },
  {
   "cell_type": "markdown",
   "metadata": {},
   "source": [
    "### Introduction and Business Problem"
   ]
  },
  {
   "cell_type": "markdown",
   "metadata": {},
   "source": [
    "Chicago is a large city with a bustling economy. My clients want to open a series of new coffee shops but need us to identify the best locations. Thus, we will explore the Chicago Community Areas to identify the best community areas in which to open new coffee shops."
   ]
  },
  {
   "cell_type": "markdown",
   "metadata": {},
   "source": [
    "### Data"
   ]
  },
  {
   "cell_type": "markdown",
   "metadata": {},
   "source": [
    "First, we will scrape data about Chicago Community Areas from a Wikipedia page and create a dataframe from them. That website is here: https://en.wikipedia.org/wiki/Community_areas_in_Chicago. Additionally, we will use and clean the coordinates data from another source: https://github.com/jkgiesler/parse-chicago-neighborhoods/blob/master/community_to_gps.txt. Once we have cleaned and merged this data together, we will use the Foursquare API to assess the businesses in the 77 Chicago Community Areas to identify one or more that will be suitable to open new coffee shops in. "
   ]
  },
  {
   "cell_type": "code",
   "execution_count": null,
   "metadata": {},
   "outputs": [],
   "source": []
  }
 ],
 "metadata": {
  "kernelspec": {
   "display_name": "Python 3",
   "language": "python",
   "name": "python3"
  },
  "language_info": {
   "codemirror_mode": {
    "name": "ipython",
    "version": 3
   },
   "file_extension": ".py",
   "mimetype": "text/x-python",
   "name": "python",
   "nbconvert_exporter": "python",
   "pygments_lexer": "ipython3",
   "version": "3.7.4"
  }
 },
 "nbformat": 4,
 "nbformat_minor": 2
}
