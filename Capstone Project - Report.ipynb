{
 "cells": [
  {
   "cell_type": "markdown",
   "metadata": {},
   "source": [
    "# Exploring Chicago Community Areas to Identify Where to Open a Coffee Shop"
   ]
  },
  {
   "cell_type": "markdown",
   "metadata": {},
   "source": [
    "### Introduction and Business Problem"
   ]
  },
  {
   "cell_type": "markdown",
   "metadata": {},
   "source": [
    "Chicago is a large city with a bustling economy. My clients want to open a series of new coffee shops but need us to identify the best locations. Thus, we will explore the Chicago Community Areas to identify the best community areas in which to open new coffee shops."
   ]
  },
  {
   "cell_type": "markdown",
   "metadata": {},
   "source": [
    "### Data"
   ]
  },
  {
   "cell_type": "markdown",
   "metadata": {},
   "source": [
    "First, we will acquire data about Chicago Community Areas from a Wikipedia page and create a dataframe from them. That website is here: https://en.wikipedia.org/wiki/Community_areas_in_Chicago. This data includes the community area's population, area in square miles, and population density. Additionally, we will use and clean the coordinates data from another source: https://github.com/jkgiesler/parse-chicago-neighborhoods/blob/master/community_to_gps.txt. Once we have cleaned and merged this data together, we will use the Foursquare API to assess the businesses in the 77 Chicago Community Areas to identify one or more that will be suitable to open new coffee shops in. "
   ]
  },
  {
   "cell_type": "markdown",
   "metadata": {},
   "source": [
    "### Methodology"
   ]
  },
  {
   "cell_type": "markdown",
   "metadata": {},
   "source": [
    "Many steps were taken to clean the data. First, the location data came in a format of many coordinates within the community areas. To get central coordinates for each of the 77 community areas, I found the median reported latitude and longitude per community area. Next, I had to remove commas from the string variables (Population and Density) and converted them, and Area, to numeric variables. For the Foursquare venue data, I identified the 10 most common venues in each communit area by taking the percentage of venue types per community area and creating, \"top venue\" variables to join with the existing data.  "
   ]
  },
  {
   "cell_type": "markdown",
   "metadata": {},
   "source": [
    "After data was merged and cleaned, some exploratory visual data analysis was done to identify potential community areas that would be good locations for coffee shops. First, I did a boxplot to look at the spread of population density in Chicago Community Areas and identify outliers that have a very high population density. Such neighborhoods will be good locations to open coffee shops because there are many people in a small area. "
   ]
  },
  {
   "cell_type": "markdown",
   "metadata": {},
   "source": [
    "Next, I did a scatterplot of population density, utilizing the variables \"Population\" and \"Area (square miles)\" to further identify community areas of interest. "
   ]
  },
  {
   "cell_type": "markdown",
   "metadata": {},
   "source": [
    "After merging in the venues data from Foursquare, I also utilized K-Means clustering to identify if a cluster of neighborhoods may be good candidates for opening coffee shops. "
   ]
  },
  {
   "cell_type": "markdown",
   "metadata": {},
   "source": [
    "### Results"
   ]
  },
  {
   "cell_type": "markdown",
   "metadata": {},
   "source": [
    "The boxplot (slide 5 of presentation) I made to look at the spread of population density in Chicago Community Areas and identify outliers showed four community areas that have population densities that are outliers: Rogers Park, Lake View, Near North Side, and Edgewater. The scatterplot (slide 6) further identified community areas of interest. Lake View and Near North Side, previously identified due to population density outliers, are the most likely candidates at this point. O'Hare and South Deering are the least likely to be viable, as they have small populations in the largest areas. Austin and West Town are also marked on the scatterplot as potential candidates, as they have high populations in slightly larger areas. "
   ]
  },
  {
   "cell_type": "markdown",
   "metadata": {},
   "source": [
    "Merging in the venue information shows which community areas may have higher competition for new coffee shops if they already have a high number of coffee shops. Clustering on venue types also shows that many community areas, identified as Cluster 3, are dominated by restaurants, showing that coffee shops may be a good addition to these neighborhoods. "
   ]
  },
  {
   "cell_type": "markdown",
   "metadata": {},
   "source": [
    "### Discussion"
   ]
  },
  {
   "cell_type": "markdown",
   "metadata": {},
   "source": [
    "The descriptive results identified 6 primary communtiy areas of interest to open new coffee shops: Rogers Park, Lake View, Near North Side, Edgewater, Austin, and West Town. These neighborhoods have high population densities, meaning there are large populations that will be present to frequent new coffee shops. Of these community areas, 3 do not have enough coffee shops to be present in their top 10 venues: Lake View, Near North Side, and Edgewater. These are the three primary community areas of interest. "
   ]
  },
  {
   "cell_type": "markdown",
   "metadata": {},
   "source": [
    "Additionally, Cluster 3, identified through K-Means clustering, are a group of community areas defined by high numbers of restaurants and other leisure activities. Several additional community areas in this cluster may be good candidates, except for O'Hare due to it's low population density and any community areas that have coffee shops listed in their top 10 venues. The high amoung of restaurants in these community areas indicates an economy that will support additional beverage and food-based businesses. "
   ]
  },
  {
   "cell_type": "markdown",
   "metadata": {},
   "source": [
    "### Conclusion"
   ]
  },
  {
   "cell_type": "markdown",
   "metadata": {},
   "source": [
    "I recommend our clients start by opening new coffee shops in Lake View, Near North Side, and Edgewater. The high population density, lack of existing coffee shops, and economy supporting other restaurants makes them good candidates. "
   ]
  }
 ],
 "metadata": {
  "kernelspec": {
   "display_name": "Python 3",
   "language": "python",
   "name": "python3"
  },
  "language_info": {
   "codemirror_mode": {
    "name": "ipython",
    "version": 3
   },
   "file_extension": ".py",
   "mimetype": "text/x-python",
   "name": "python",
   "nbconvert_exporter": "python",
   "pygments_lexer": "ipython3",
   "version": "3.7.4"
  }
 },
 "nbformat": 4,
 "nbformat_minor": 2
}
